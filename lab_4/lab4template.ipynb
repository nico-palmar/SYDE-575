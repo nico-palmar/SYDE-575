{
 "cells": [
  {
   "cell_type": "code",
   "execution_count": null,
   "id": "dcd70d33-4e88-46b5-8012-3df98a74a299",
   "metadata": {},
   "outputs": [],
   "source": [
    "%matplotlib ipympl\n",
    "import scipy.signal as signal\n",
    "import matplotlib.pyplot as plt\n",
    "import numpy as np\n",
    "from matplotlib.widgets import RectangleSelector\n",
    "import skimage.util\n",
    "import scipy.ndimage as ndimage\n",
    "from skimage.color import rgb2gray\n",
    "from skimage.morphology import disk\n",
    "from skimage.io import imread\n",
    "import matplotlib\n",
    "import skimage.restoration as restoration\n",
    "\n",
    "import skimage.filters.rank as rank\n",
    "plt.gray()\n",
    "def PSNR(f,g):\n",
    "    return 10*np.log10(1.0/ np.mean(np.square(f-g)))\n",
    "\n",
    "\n",
    "class Selector:\n",
    "    def __init__(self, ax):\n",
    "        self.RS = RectangleSelector(ax, self.line_select_callback,\n",
    "                                     useblit=True,\n",
    "                                       button=[1, 3],  \n",
    "                                       minspanx=5, minspany=5,\n",
    "                                       spancoords='pixels',\n",
    "                                       interactive=True)\n",
    "        self.bbox = [None, None, None, None]\n",
    "        \n",
    "    def line_select_callback(self,eclick, erelease):\n",
    "        'eclick and erelease are the press and release events'\n",
    "        x1, y1 = eclick.xdata, eclick.ydata\n",
    "        x2, y2 = erelease.xdata, erelease.ydata\n",
    "        self.bbox = [int(y1), int(y2), int(x1), int(x2)]\n",
    "    def get_bbox(self):\n",
    "        return self.bbox\n",
    "\n",
    "f = imread('cameraman.tif').astype(np.float64)/255\n",
    "I = imread('degraded.tif').astype(np.float64)/255\n"
   ]
  }
 ],
 "metadata": {
  "kernelspec": {
   "display_name": "Python 3 (ipykernel)",
   "language": "python",
   "name": "python3"
  },
  "language_info": {
   "codemirror_mode": {
    "name": "ipython",
    "version": 3
   },
   "file_extension": ".py",
   "mimetype": "text/x-python",
   "name": "python",
   "nbconvert_exporter": "python",
   "pygments_lexer": "ipython3",
   "version": "3.10.12"
  }
 },
 "nbformat": 4,
 "nbformat_minor": 5
}
