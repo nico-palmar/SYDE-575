{
 "cells": [
  {
   "cell_type": "code",
   "execution_count": 5,
   "id": "dcd70d33-4e88-46b5-8012-3df98a74a299",
   "metadata": {},
   "outputs": [
    {
     "data": {
      "application/vnd.jupyter.widget-view+json": {
       "model_id": "f01fd65e513c4a729ef8ebafa34b2304",
       "version_major": 2,
       "version_minor": 0
      },
      "image/png": "[encoded data removed]",
      "text/html": [
       "\n",
       "            <div style=\"display: inline-block;\">\n",
       "                <div class=\"jupyter-widgets widget-label\" style=\"text-align: center;\">\n",
       "                    Figure\n",
       "                </div>\n",
       "                <img src='data:image/png;base64,iVBORw0KGgoAAAANSUhEUgAAAoAAAAHgCAYAAAA10dzkAAAAOXRFWHRTb2Z0d2FyZQBNYXRwbG90bGliIHZlcnNpb24zLjkuMiwgaHR0cHM6Ly9tYXRwbG90bGliLm9yZy8hTgPZAAAACXBIWXMAAA9hAAAPYQGoP6dpAAAIyUlEQVR4nO3WMQEAIAzAMMC/5+ECjiYKenbPzCwAADLO7wAAAN4ygAAAMQYQACDGAAIAxBhAAIAYAwgAEGMAAQBiDCAAQIwBBACIMYAAADEGEAAgxgACAMQYQACAGAMIABBjAAEAYgwgAECMAQQAiDGAAAAxBhAAIMYAAgDEGEAAgBgDCAAQYwABAGIMIABAjAEEAIgxgAAAMQYQACDGAAIAxBhAAIAYAwgAEGMAAQBiDCAAQIwBBACIMYAAADEGEAAgxgACAMQYQACAGAMIABBjAAEAYgwgAECMAQQAiDGAAAAxBhAAIMYAAgDEGEAAgBgDCAAQYwABAGIMIABAjAEEAIgxgAAAMQYQACDGAAIAxBhAAIAYAwgAEGMAAQBiDCAAQIwBBACIMYAAADEGEAAgxgACAMQYQACAGAMIABBjAAEAYgwgAECMAQQAiDGAAAAxBhAAIMYAAgDEGEAAgBgDCAAQYwABAGIMIABAjAEEAIgxgAAAMQYQACDGAAIAxBhAAIAYAwgAEGMAAQBiDCAAQIwBBACIMYAAADEGEAAgxgACAMQYQACAGAMIABBjAAEAYgwgAECMAQQAiDGAAAAxBhAAIMYAAgDEGEAAgBgDCAAQYwABAGIMIABAjAEEAIgxgAAAMQYQACDGAAIAxBhAAIAYAwgAEGMAAQBiDCAAQIwBBACIMYAAADEGEAAgxgACAMQYQACAGAMIABBjAAEAYgwgAECMAQQAiDGAAAAxBhAAIMYAAgDEGEAAgBgDCAAQYwABAGIMIABAjAEEAIgxgAAAMQYQACDGAAIAxBhAAIAYAwgAEGMAAQBiDCAAQIwBBACIMYAAADEGEAAgxgACAMQYQACAGAMIABBjAAEAYgwgAECMAQQAiDGAAAAxBhAAIMYAAgDEGEAAgBgDCAAQYwABAGIMIABAjAEEAIgxgAAAMQYQACDGAAIAxBhAAIAYAwgAEGMAAQBiDCAAQIwBBACIMYAAADEGEAAgxgACAMQYQACAGAMIABBjAAEAYgwgAECMAQQAiDGAAAAxBhAAIMYAAgDEGEAAgBgDCAAQYwABAGIMIABAjAEEAIgxgAAAMQYQACDGAAIAxBhAAIAYAwgAEGMAAQBiDCAAQIwBBACIMYAAADEGEAAgxgACAMQYQACAGAMIABBjAAEAYgwgAECMAQQAiDGAAAAxBhAAIMYAAgDEGEAAgBgDCAAQYwABAGIMIABAjAEEAIgxgAAAMQYQACDGAAIAxBhAAIAYAwgAEGMAAQBiDCAAQIwBBACIMYAAADEGEAAgxgACAMQYQACAGAMIABBjAAEAYgwgAECMAQQAiDGAAAAxBhAAIMYAAgDEGEAAgBgDCAAQYwABAGIMIABAjAEEAIgxgAAAMQYQACDGAAIAxBhAAIAYAwgAEGMAAQBiDCAAQIwBBACIMYAAADEGEAAgxgACAMQYQACAGAMIABBjAAEAYgwgAECMAQQAiDGAAAAxBhAAIMYAAgDEGEAAgBgDCAAQYwABAGIMIABAjAEEAIgxgAAAMQYQACDGAAIAxBhAAIAYAwgAEGMAAQBiDCAAQIwBBACIMYAAADEGEAAgxgACAMQYQACAGAMIABBjAAEAYgwgAECMAQQAiDGAAAAxBhAAIMYAAgDEGEAAgBgDCAAQYwABAGIMIABAjAEEAIgxgAAAMQYQACDGAAIAxBhAAIAYAwgAEGMAAQBiDCAAQIwBBACIMYAAADEGEAAgxgACAMQYQACAGAMIABBjAAEAYgwgAECMAQQAiDGAAAAxBhAAIMYAAgDEGEAAgBgDCAAQYwABAGIMIABAjAEEAIgxgAAAMQYQACDGAAIAxBhAAIAYAwgAEGMAAQBiDCAAQIwBBACIMYAAADEGEAAgxgACAMQYQACAGAMIABBjAAEAYgwgAECMAQQAiDGAAAAxBhAAIMYAAgDEGEAAgBgDCAAQYwABAGIMIABAjAEEAIgxgAAAMQYQACDGAAIAxBhAAIAYAwgAEGMAAQBiDCAAQIwBBACIMYAAADEGEAAgxgACAMQYQACAGAMIABBjAAEAYgwgAECMAQQAiDGAAAAxBhAAIMYAAgDEGEAAgBgDCAAQYwABAGIMIABAjAEEAIgxgAAAMQYQACDGAAIAxBhAAIAYAwgAEGMAAQBiDCAAQIwBBACIMYAAADEGEAAgxgACAMQYQACAGAMIABBjAAEAYgwgAECMAQQAiDGAAAAxBhAAIMYAAgDEGEAAgBgDCAAQYwABAGIMIABAjAEEAIgxgAAAMQYQACDGAAIAxBhAAIAYAwgAEGMAAQBiDCAAQIwBBACIMYAAADEGEAAgxgACAMQYQACAGAMIABBjAAEAYgwgAECMAQQAiDGAAAAxBhAAIMYAAgDEGEAAgBgDCAAQYwABAGIMIABAjAEEAIgxgAAAMQYQACDGAAIAxBhAAIAYAwgAEGMAAQBiDCAAQIwBBACIMYAAADEGEAAgxgACAMQYQACAGAMIABBjAAEAYgwgAECMAQQAiDGAAAAxBhAAIMYAAgDEGEAAgBgDCAAQYwABAGIMIABAjAEEAIgxgAAAMQYQACDGAAIAxBhAAIAYAwgAEGMAAQBiDCAAQIwBBACIMYAAADEGEAAgxgACAMQYQACAGAMIABBjAAEAYgwgAECMAQQAiDGAAAAxBhAAIMYAAgDEGEAAgBgDCAAQYwABAGIMIABAjAEEAIgxgAAAMQYQACDGAAIAxBhAAIAYAwgAEGMAAQBiDCAAQIwBBACIMYAAADEGEAAgxgACAMQYQACAGAMIABBjAAEAYgwgAECMAQQAiDGAAAAxBhAAIMYAAgDEGEAAgBgDCAAQYwABAGIMIABAjAEEAIgxgAAAMQYQACDGAAIAxBhAAIAYAwgAEGMAAQBiDCAAQIwBBACIMYAAADEGEAAgxgACAMQYQACAGAMIABBjAAEAYgwgAECMAQQAiDGAAAAxBhAAIMYAAgDEGEAAgBgDCAAQYwABAGIuJnkHvKensmIAAAAASUVORK5CYII=' width=640.0/>\n",
       "            </div>\n",
       "        "
      ],
      "text/plain": [
       "Canvas(toolbar=None)"
      ]
     },
     "metadata": {},
     "output_type": "display_data"
    }
   ],
   "source": [
    "%matplotlib ipympl\n",
    "import scipy.signal as signal\n",
    "import matplotlib.pyplot as plt\n",
    "import numpy as np\n",
    "from matplotlib.widgets import RectangleSelector\n",
    "import skimage.util\n",
    "import scipy.ndimage as ndimage\n",
    "from skimage.color import rgb2gray\n",
    "from skimage.morphology import disk\n",
    "from skimage.io import imread\n",
    "import matplotlib\n",
    "import skimage.restoration as restoration\n",
    "\n",
    "import skimage.filters.rank as rank\n",
    "plt.gray()\n",
    "def PSNR(f,g):\n",
    "    return 10*np.log10(1.0/ np.mean(np.square(f-g)))\n",
    "\n",
    "class Selector:\n",
    "    def __init__(self, ax):\n",
    "        self.RS = RectangleSelector(ax, self.line_select_callback,\n",
    "                                     useblit=True,\n",
    "                                       button=[1, 3],  \n",
    "                                       minspanx=5, minspany=5,\n",
    "                                       spancoords='pixels',\n",
    "                                       interactive=True)\n",
    "        self.bbox = [None, None, None, None]\n",
    "        \n",
    "    def line_select_callback(self,eclick, erelease):\n",
    "        'eclick and erelease are the press and release events'\n",
    "        x1, y1 = eclick.xdata, eclick.ydata\n",
    "        x2, y2 = erelease.xdata, erelease.ydata\n",
    "        self.bbox = [int(y1), int(y2), int(x1), int(x2)]\n",
    "    def get_bbox(self):\n",
    "        return self.bbox\n",
    "\n",
    "f = imread('../lab_images/cameraman.tif').astype(np.float64)/255\n",
    "I = imread('../lab_images/degraded.tif').astype(np.float64)/255\n"
   ]
  },
  {
   "cell_type": "markdown",
   "id": "c18c463f",
   "metadata": {},
   "source": [
    "1. Compare the restored image with the original image and the blurred image. How does the restored image and the PSNR differ from the blurred image? Is it better or worse? Why?\n",
    "\n",
    "The restored image looks quite similar to the original image. The restored might be slightly blurred, but overall they look the same. On the other hand, the blurred image is, well, very blurry. Edges are blurred and the image is smoothed. \n",
    "\n",
    "The PSNR of the restored image is much higher (~316.61 dB) than the PSNR from the blurred image (~16.31 dB). Hence, the image is much better, which is visually noticeable. It is clear that the quality of the restored image is very good. "
   ]
  },
  {
   "cell_type": "markdown",
   "id": "7f9b3d70",
   "metadata": {},
   "source": [
    "2. Compare the restored image with the restored image from the previous step. How does the restored image and the PSNR differ from the previous restored image? Is it better or worse? Why?\n",
    "\n",
    "The restored image with added Gaussian noise is significantly worse than the other restored image, with a PSNR of around -41 dB. This extremely low PSNR indicates severe distortion, and we can see that as the image is unrecognizable. This happens as inverse filtering amplifies noise, especially in regions where the frequency response of the blur filter (h_freq) is near zero."
   ]
  },
  {
   "cell_type": "markdown",
   "id": "b98e986f",
   "metadata": {},
   "source": [
    "3. Can you draw any conclusions about inverse filtering when applied to noise degraded images?\n",
    "\n",
    "Hence, inverse filtering is highly sensitive to noise and fails when applied to noisy degraded images. As inverse filtering divides by the frequency response of the blur kernel, it amplifies noise in low-magnitude frequency regions. This makes it unsuitable for images with significant noise. We'll need alternative methods in this case, like Wiener filtering."
   ]
  },
  {
   "cell_type": "markdown",
   "id": "e8bfb2d4",
   "metadata": {},
   "source": [
    "4. Compare the restored image with the restored image from the previous step. How does the restored image and the PSNR differ from the previous restored image? Is it better or worse? Why? Explain it in context with the concept behind Wiener filtering.\n",
    "\n",
    "The restored image using Wiener filtering with a regularization parameter of 0.1 is significantly better than the inverse-filtered image, as we can see visually and in terms of PSNR (~22.68 dB). The balance parameter in the Wiener filtering balances restoring frequencies and suppressing noise artifacts, resulting in a better restoration that doesn't amplify noise excessively."
   ]
  },
  {
   "cell_type": "markdown",
   "id": "ec95be7a",
   "metadata": {},
   "source": [
    "5. Can you draw any conclusions about Wiener filtering when applied to noise degraded images?\n",
    "\n",
    "Setting an appropriate regularization parameter in Wiener filtering allows for an effective trade-off between preserving image details and suppressing noise artifacts. This makes Wiener filtering better for restoring noisy degraded images, as it adjusts the restoration process based on the signal-to-noise ratio."
   ]
  },
  {
   "cell_type": "markdown",
   "id": "a40458ce",
   "metadata": {},
   "source": [
    "6. Use a flat region of degraded.tif and estimate the variance of the noise (Use the provided Selector class, see the example usage in selector ex.py/selector ex.ipynb).\n",
    "\n",
    "The estimated variance of the noise is around 0.0108. While calculating K, we end up with some negative values because the local variance may be smaller than the estimated noise variance. If K is negative, the contribution of the local mean would be incorrectly scaled by a value above 1, and the noisy image would be scaled by a negative value, which would distort the restoration process. This could lead to unrealistic image values or negative pixel intensities. Hence, we use np.maximum to get rid of these negative values and set them to zero. This adjustment makes sure that K remains within a valid range [0, 1], reflecting the relative contributions of the noisy image and local mean.\n",
    "\n",
    "In this case, the PSNR is around 22.18 dB, which suggests a moderate level of noise reduction compared to the original image, though the results still show some visible noise and blurring. The image looks interesting, with some blotchy areas. This is expected for the Lee filter, which adapts based on local image statistics. These blotchy artifacts might be due to the way the Lee filter estimates the noise variance locally. In regions with higher detail or more noise, the filter may not perfectly distinguish between signal and noise, leading to residual noise that appears as blotches. Compared to the Wiener filter, which accounts for both noise and signal characteristics, the Lee filter produces a similar PSNR but the visual quality differs. The Wiener filter tends to smooth out the noise more effectively, which is why the blotchiness is less noticeable in its output."
   ]
  },
  {
   "cell_type": "markdown",
   "id": "817b79e3",
   "metadata": {},
   "source": [
    "7. Compare this result to that using a Gaussian low pass filter with standard deviation of 30 (in the frequency domain). Note the performance in areas of high and low detail.\n",
    "\n",
    "The Gaussian low pass filter with standard deviation 30 smooths the image. "
   ]
  },
  {
   "cell_type": "markdown",
   "id": "002bfe56",
   "metadata": {},
   "source": [
    "8. Try varying your estimate of the noise variance both above and below the value you got from your flat region. How does this change the filter’s results? Why?\n",
    "\n",
    "Decreasing the variance with an order of magnitude 10 (~ 0.001) makes the image grainy. As the variance is lower, it lessens the contribution of the noisy pixels in favor of the local mean. This results in a grainy appearance because the filter reduces the effect of high-frequency noise but also suppresses some of the finer details in the image. The PSNR is around 19.45 dB.\n",
    "\n",
    "Increasing the variance with an order of magnitude 10 (~ 0.1) makes the filter overly aggressive in smoothing, causing the image to become blurry. The PSNR is around 21.45 dB."
   ]
  },
  {
   "cell_type": "markdown",
   "id": "f61f7564",
   "metadata": {},
   "source": [
    "9. Try changing the size of the filter neighborhood to be smaller and larger than 5 × 5. How does this change the results? Why?\n",
    "\n",
    "When the filter neighborhood size is reduced to 3x3, the smaller area gives less information about local statistics, causing the Lee filter to perform poorly. This leads to an unrecognizable image because the filter struggles to differentiate between noise and details.\n",
    "\n",
    "On the other land, increasing the neighborhood size to 7x7 allows the filter to get more contextual information, but the results are similar to 5x5. This is because larger neighborhoods don't significantly change the local mean and variance calculations in relatively smooth regions, keeping similar overall performance."
   ]
  }
 ],
 "metadata": {
  "kernelspec": {
   "display_name": "Python 3 (ipykernel)",
   "language": "python",
   "name": "python3"
  },
  "language_info": {
   "codemirror_mode": {
    "name": "ipython",
    "version": 3
   },
   "file_extension": ".py",
   "mimetype": "text/x-python",
   "name": "python",
   "nbconvert_exporter": "python",
   "pygments_lexer": "ipython3",
   "version": "3.12.4"
  }
 },
 "nbformat": 4,
 "nbformat_minor": 5
}
