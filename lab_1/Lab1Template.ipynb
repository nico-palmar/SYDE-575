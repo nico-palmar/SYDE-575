{
 "cells": [
  {
   "cell_type": "code",
   "execution_count": null,
   "id": "f412da18-a698-4791-afb1-f854f11e77d7",
   "metadata": {},
   "outputs": [],
   "source": [
    "from skimage.color import rgb2gray\n",
    "import skimage.transform\n",
    "import numpy as np\n",
    "import matplotlib.pyplot as plt\n",
    "from skimage.io import imread\n",
    "import skimage.exposure"
   ]
  },
  {
   "cell_type": "code",
   "execution_count": null,
   "id": "eacf19d0-2d03-45f6-8e1e-7409288735b7",
   "metadata": {},
   "outputs": [],
   "source": [
    "plt.gray() # makes image plots grayscale\n",
    "\n",
    "lena = rgb2gray(imread('lena.tiff')) *255\n",
    "cameraman = imread('cameraman.tif').astype(np.float64)\n",
    "tire = imread('tire.tif').astype(np.float64) / 255.0\n"
   ]
  },
  {
   "cell_type": "code",
   "execution_count": null,
   "id": "377330cb-6aae-450c-9022-2c4f80900321",
   "metadata": {},
   "outputs": [],
   "source": []
  }
 ],
 "metadata": {
  "kernelspec": {
   "display_name": "Python 3 (ipykernel)",
   "language": "python",
   "name": "python3"
  },
  "language_info": {
   "codemirror_mode": {
    "name": "ipython",
    "version": 3
   },
   "file_extension": ".py",
   "mimetype": "text/x-python",
   "name": "python",
   "nbconvert_exporter": "python",
   "pygments_lexer": "ipython3",
   "version": "3.10.12"
  }
 },
 "nbformat": 4,
 "nbformat_minor": 5
}
